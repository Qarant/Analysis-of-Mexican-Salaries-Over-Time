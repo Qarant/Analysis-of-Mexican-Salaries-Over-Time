{
 "cells": [
  {
   "cell_type": "markdown",
   "metadata": {},
   "source": [
    "### En este apartado utilizaremos los datos del archivo: \"02_data_ready_for_visualization_salaries_mexico_INEGI.csv\"\n",
    "Realizaremos estadísticas descriptivas de cada estado y crearemos visualizaciones para entender y mostrar patrones de crecimiento en cada uno de los estados por sexo. Además, desarrollaremos un modelo predictivo para identificar qué estados de la República Mexicana pueden ofrecer mejores oportunidades de empleo.\n",
    "\n",
    "### In this section, we will use the data from the file: \"02_data_ready_for_visualization_salaries_mexico_INEGI.csv\"\n",
    "We will perform descriptive statistics for each state and create visualizations to understand and display growth patterns in each state by gender. Additionally, we will develop a predictive model to identify which states in Mexico might offer better employment opportunities.\n"
   ]
  },
  {
   "cell_type": "code",
   "execution_count": 1,
   "metadata": {},
   "outputs": [],
   "source": [
    "import pandas as pd\n",
    "import matplotlib.pyplot as plt"
   ]
  }
 ],
 "metadata": {
  "kernelspec": {
   "display_name": "Python 3",
   "language": "python",
   "name": "python3"
  },
  "language_info": {
   "codemirror_mode": {
    "name": "ipython",
    "version": 3
   },
   "file_extension": ".py",
   "mimetype": "text/x-python",
   "name": "python",
   "nbconvert_exporter": "python",
   "pygments_lexer": "ipython3",
   "version": "3.12.3"
  }
 },
 "nbformat": 4,
 "nbformat_minor": 2
}
